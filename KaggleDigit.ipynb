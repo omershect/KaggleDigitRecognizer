{
  "nbformat": 4,
  "nbformat_minor": 0,
  "metadata": {
    "colab": {
      "name": "KaggleDigit CNN With Image Augmentation .ipynb",
      "version": "0.3.2",
      "provenance": [],
      "collapsed_sections": []
    },
    "language_info": {
      "codemirror_mode": {
        "name": "ipython",
        "version": 3
      },
      "file_extension": ".py",
      "mimetype": "text/x-python",
      "name": "python",
      "nbconvert_exporter": "python",
      "pygments_lexer": "ipython3",
      "version": "3.7.1"
    },
    "kernelspec": {
      "name": "python3",
      "display_name": "Python 3"
    },
    "accelerator": "GPU"
  },
  "cells": [
    {
      "metadata": {
        "id": "t5B8jkveX8lU",
        "colab_type": "code",
        "colab": {
          "base_uri": "https://localhost:8080/",
          "height": 34
        },
        "outputId": "f16d8255-e301-49cd-b17f-35f28375ec3f"
      },
      "cell_type": "code",
      "source": [
        "from keras import models\n",
        "from keras import layers\n",
        "from keras.layers import Dense, Conv2D, Flatten,MaxPooling2D,Dropout,ZeroPadding2D\n",
        "from keras.preprocessing.image import ImageDataGenerator\n",
        "import pandas as pd\n",
        "import numpy as np\n",
        "from matplotlib import pyplot\n",
        "import os\n",
        "import zipfile\n",
        "import tensorflow as tf\n",
        "from tensorflow.keras.optimizers import RMSprop,Adam\n",
        "from tensorflow.keras.preprocessing.image import ImageDataGenerator\n",
        "\n"
      ],
      "execution_count": 1,
      "outputs": [
        {
          "output_type": "stream",
          "text": [
            "Using TensorFlow backend.\n"
          ],
          "name": "stderr"
        }
      ]
    },
    {
      "metadata": {
        "id": "AkSHdWqbX8lX",
        "colab_type": "text"
      },
      "cell_type": "markdown",
      "source": [
        "## Read Data "
      ]
    },
    {
      "metadata": {
        "id": "0FDAM3kqxWO2",
        "colab_type": "text"
      },
      "cell_type": "markdown",
      "source": [
        "Ths option is  for Google Colab - Reading from Google Drive "
      ]
    },
    {
      "metadata": {
        "id": "79gIEXf9d2Nb",
        "colab_type": "code",
        "colab": {
          "base_uri": "https://localhost:8080/",
          "height": 139
        },
        "outputId": "3ca1481d-9b9c-4be9-c814-903782df5fe2"
      },
      "cell_type": "code",
      "source": [
        "from google.colab import drive\n",
        "drive.mount('/content/gdrive')\n",
        "\n",
        "\n",
        "with open('/content/gdrive/My Drive/foo.txt', 'w') as f:\n",
        "  f.write('Hello Google Drive!')\n",
        "!cat /content/gdrive/My\\ Drive/foo.txt"
      ],
      "execution_count": 2,
      "outputs": [
        {
          "output_type": "stream",
          "text": [
            "Go to this URL in a browser: https://accounts.google.com/o/oauth2/auth?client_id=947318989803-6bn6qk8qdgf4n4g3pfee6491hc0brc4i.apps.googleusercontent.com&redirect_uri=urn%3Aietf%3Awg%3Aoauth%3A2.0%3Aoob&scope=email%20https%3A%2F%2Fwww.googleapis.com%2Fauth%2Fdocs.test%20https%3A%2F%2Fwww.googleapis.com%2Fauth%2Fdrive%20https%3A%2F%2Fwww.googleapis.com%2Fauth%2Fdrive.photos.readonly%20https%3A%2F%2Fwww.googleapis.com%2Fauth%2Fpeopleapi.readonly&response_type=code\n",
            "\n",
            "Enter your authorization code:\n",
            "··········\n",
            "Mounted at /content/gdrive\n",
            "Hello Google Drive!"
          ],
          "name": "stdout"
        }
      ]
    },
    {
      "metadata": {
        "id": "iDde5OHrX8lY",
        "colab_type": "code",
        "colab": {}
      },
      "cell_type": "code",
      "source": [
        ""
      ],
      "execution_count": 0,
      "outputs": []
    },
    {
      "metadata": {
        "id": "VoGfujVtX8lX",
        "colab_type": "text"
      },
      "cell_type": "markdown",
      "source": [
        "Read the train and test data from the drive "
      ]
    },
    {
      "metadata": {
        "id": "Ys7ecppaX8la",
        "colab_type": "code",
        "colab": {}
      },
      "cell_type": "code",
      "source": [
        "Train = pd.read_csv('/content/gdrive/My Drive/Colab Notebooks/train.csv')\n",
        "Test = pd.read_csv('/content/gdrive/My Drive/Colab Notebooks/test.csv')"
      ],
      "execution_count": 0,
      "outputs": []
    },
    {
      "metadata": {
        "id": "M-QAWulAxyvx",
        "colab_type": "text"
      },
      "cell_type": "markdown",
      "source": [
        "This option is to read localy the files "
      ]
    },
    {
      "metadata": {
        "id": "WALPOcSexxZR",
        "colab_type": "code",
        "colab": {}
      },
      "cell_type": "code",
      "source": [
        "Train = pd.read_csv(\"train_digits.csv\")\n",
        "Test = pd.read_csv(\"test_digits.csv\")"
      ],
      "execution_count": 0,
      "outputs": []
    },
    {
      "metadata": {
        "id": "BjAN8CYJX8ld",
        "colab_type": "code",
        "outputId": "22c35844-6a34-4edc-f948-39fd1492329b",
        "colab": {
          "base_uri": "https://localhost:8080/",
          "height": 233
        }
      },
      "cell_type": "code",
      "source": [
        "Train.head()"
      ],
      "execution_count": 65,
      "outputs": [
        {
          "output_type": "execute_result",
          "data": {
            "text/html": [
              "<div>\n",
              "<style scoped>\n",
              "    .dataframe tbody tr th:only-of-type {\n",
              "        vertical-align: middle;\n",
              "    }\n",
              "\n",
              "    .dataframe tbody tr th {\n",
              "        vertical-align: top;\n",
              "    }\n",
              "\n",
              "    .dataframe thead th {\n",
              "        text-align: right;\n",
              "    }\n",
              "</style>\n",
              "<table border=\"1\" class=\"dataframe\">\n",
              "  <thead>\n",
              "    <tr style=\"text-align: right;\">\n",
              "      <th></th>\n",
              "      <th>label</th>\n",
              "      <th>pixel0</th>\n",
              "      <th>pixel1</th>\n",
              "      <th>pixel2</th>\n",
              "      <th>pixel3</th>\n",
              "      <th>pixel4</th>\n",
              "      <th>pixel5</th>\n",
              "      <th>pixel6</th>\n",
              "      <th>pixel7</th>\n",
              "      <th>pixel8</th>\n",
              "      <th>...</th>\n",
              "      <th>pixel774</th>\n",
              "      <th>pixel775</th>\n",
              "      <th>pixel776</th>\n",
              "      <th>pixel777</th>\n",
              "      <th>pixel778</th>\n",
              "      <th>pixel779</th>\n",
              "      <th>pixel780</th>\n",
              "      <th>pixel781</th>\n",
              "      <th>pixel782</th>\n",
              "      <th>pixel783</th>\n",
              "    </tr>\n",
              "  </thead>\n",
              "  <tbody>\n",
              "    <tr>\n",
              "      <th>0</th>\n",
              "      <td>1</td>\n",
              "      <td>0</td>\n",
              "      <td>0</td>\n",
              "      <td>0</td>\n",
              "      <td>0</td>\n",
              "      <td>0</td>\n",
              "      <td>0</td>\n",
              "      <td>0</td>\n",
              "      <td>0</td>\n",
              "      <td>0</td>\n",
              "      <td>...</td>\n",
              "      <td>0</td>\n",
              "      <td>0</td>\n",
              "      <td>0</td>\n",
              "      <td>0</td>\n",
              "      <td>0</td>\n",
              "      <td>0</td>\n",
              "      <td>0</td>\n",
              "      <td>0</td>\n",
              "      <td>0</td>\n",
              "      <td>0</td>\n",
              "    </tr>\n",
              "    <tr>\n",
              "      <th>1</th>\n",
              "      <td>0</td>\n",
              "      <td>0</td>\n",
              "      <td>0</td>\n",
              "      <td>0</td>\n",
              "      <td>0</td>\n",
              "      <td>0</td>\n",
              "      <td>0</td>\n",
              "      <td>0</td>\n",
              "      <td>0</td>\n",
              "      <td>0</td>\n",
              "      <td>...</td>\n",
              "      <td>0</td>\n",
              "      <td>0</td>\n",
              "      <td>0</td>\n",
              "      <td>0</td>\n",
              "      <td>0</td>\n",
              "      <td>0</td>\n",
              "      <td>0</td>\n",
              "      <td>0</td>\n",
              "      <td>0</td>\n",
              "      <td>0</td>\n",
              "    </tr>\n",
              "    <tr>\n",
              "      <th>2</th>\n",
              "      <td>1</td>\n",
              "      <td>0</td>\n",
              "      <td>0</td>\n",
              "      <td>0</td>\n",
              "      <td>0</td>\n",
              "      <td>0</td>\n",
              "      <td>0</td>\n",
              "      <td>0</td>\n",
              "      <td>0</td>\n",
              "      <td>0</td>\n",
              "      <td>...</td>\n",
              "      <td>0</td>\n",
              "      <td>0</td>\n",
              "      <td>0</td>\n",
              "      <td>0</td>\n",
              "      <td>0</td>\n",
              "      <td>0</td>\n",
              "      <td>0</td>\n",
              "      <td>0</td>\n",
              "      <td>0</td>\n",
              "      <td>0</td>\n",
              "    </tr>\n",
              "    <tr>\n",
              "      <th>3</th>\n",
              "      <td>4</td>\n",
              "      <td>0</td>\n",
              "      <td>0</td>\n",
              "      <td>0</td>\n",
              "      <td>0</td>\n",
              "      <td>0</td>\n",
              "      <td>0</td>\n",
              "      <td>0</td>\n",
              "      <td>0</td>\n",
              "      <td>0</td>\n",
              "      <td>...</td>\n",
              "      <td>0</td>\n",
              "      <td>0</td>\n",
              "      <td>0</td>\n",
              "      <td>0</td>\n",
              "      <td>0</td>\n",
              "      <td>0</td>\n",
              "      <td>0</td>\n",
              "      <td>0</td>\n",
              "      <td>0</td>\n",
              "      <td>0</td>\n",
              "    </tr>\n",
              "    <tr>\n",
              "      <th>4</th>\n",
              "      <td>0</td>\n",
              "      <td>0</td>\n",
              "      <td>0</td>\n",
              "      <td>0</td>\n",
              "      <td>0</td>\n",
              "      <td>0</td>\n",
              "      <td>0</td>\n",
              "      <td>0</td>\n",
              "      <td>0</td>\n",
              "      <td>0</td>\n",
              "      <td>...</td>\n",
              "      <td>0</td>\n",
              "      <td>0</td>\n",
              "      <td>0</td>\n",
              "      <td>0</td>\n",
              "      <td>0</td>\n",
              "      <td>0</td>\n",
              "      <td>0</td>\n",
              "      <td>0</td>\n",
              "      <td>0</td>\n",
              "      <td>0</td>\n",
              "    </tr>\n",
              "  </tbody>\n",
              "</table>\n",
              "<p>5 rows × 785 columns</p>\n",
              "</div>"
            ],
            "text/plain": [
              "   label  pixel0  pixel1  pixel2  pixel3  pixel4  pixel5  pixel6  pixel7  \\\n",
              "0      1       0       0       0       0       0       0       0       0   \n",
              "1      0       0       0       0       0       0       0       0       0   \n",
              "2      1       0       0       0       0       0       0       0       0   \n",
              "3      4       0       0       0       0       0       0       0       0   \n",
              "4      0       0       0       0       0       0       0       0       0   \n",
              "\n",
              "   pixel8  ...  pixel774  pixel775  pixel776  pixel777  pixel778  pixel779  \\\n",
              "0       0  ...         0         0         0         0         0         0   \n",
              "1       0  ...         0         0         0         0         0         0   \n",
              "2       0  ...         0         0         0         0         0         0   \n",
              "3       0  ...         0         0         0         0         0         0   \n",
              "4       0  ...         0         0         0         0         0         0   \n",
              "\n",
              "   pixel780  pixel781  pixel782  pixel783  \n",
              "0         0         0         0         0  \n",
              "1         0         0         0         0  \n",
              "2         0         0         0         0  \n",
              "3         0         0         0         0  \n",
              "4         0         0         0         0  \n",
              "\n",
              "[5 rows x 785 columns]"
            ]
          },
          "metadata": {
            "tags": []
          },
          "execution_count": 65
        }
      ]
    },
    {
      "metadata": {
        "id": "NuFzs0PKX8lg",
        "colab_type": "code",
        "outputId": "73048243-e03a-4b66-c229-dc4c54cbb835",
        "colab": {
          "base_uri": "https://localhost:8080/",
          "height": 34
        }
      },
      "cell_type": "code",
      "source": [
        "#Read the labels into a seprate array\n",
        "y_train = Train['label'].values\n",
        "\n",
        "#convert the images into a matrix of size 42,000 X 28 X 28 \n",
        "train_images = Train.loc[:,Train.columns != 'label'].values\n",
        "train_images = train_images.reshape(-1,28,28,1)\n",
        "train_images.shape\n"
      ],
      "execution_count": 66,
      "outputs": [
        {
          "output_type": "execute_result",
          "data": {
            "text/plain": [
              "(42000, 28, 28, 1)"
            ]
          },
          "metadata": {
            "tags": []
          },
          "execution_count": 66
        }
      ]
    },
    {
      "metadata": {
        "id": "hgAR3zXNyIEE",
        "colab_type": "text"
      },
      "cell_type": "markdown",
      "source": [
        "## Reshape\n",
        "Convert to the Keras expected sahpe"
      ]
    },
    {
      "metadata": {
        "id": "mxq5d6_UX8lk",
        "colab_type": "code",
        "outputId": "6941e77c-b703-47d0-edc0-d8e5c321bd6d",
        "colab": {
          "base_uri": "https://localhost:8080/",
          "height": 34
        }
      },
      "cell_type": "code",
      "source": [
        "\n",
        "#convert the images into a matrix of size 28,000 X 28 X 28 \n",
        "test_images = Test.values\n",
        "test_images_final = test_images.reshape(-1,28,28,1)\n",
        "test_images_final.shape\n"
      ],
      "execution_count": 67,
      "outputs": [
        {
          "output_type": "execute_result",
          "data": {
            "text/plain": [
              "(28000, 28, 28, 1)"
            ]
          },
          "metadata": {
            "tags": []
          },
          "execution_count": 67
        }
      ]
    },
    {
      "metadata": {
        "id": "E_oXnu8pX8ln",
        "colab_type": "text"
      },
      "cell_type": "markdown",
      "source": [
        "## Displaying Grid of some images"
      ]
    },
    {
      "metadata": {
        "id": "c3kJu5wxX8lo",
        "colab_type": "code",
        "outputId": "5ef8f8a7-50f2-43d1-aece-88aaec85a684",
        "colab": {
          "base_uri": "https://localhost:8080/",
          "height": 269
        }
      },
      "cell_type": "code",
      "source": [
        "# create a grid of 3x3 images\n",
        "for i in range(0, 9):\n",
        "\tpyplot.subplot(330 + 1 + i)\n",
        "\tpyplot.imshow(train_images[i].reshape(28,28), cmap=pyplot.get_cmap('gray'))\n",
        "# show the plot\n",
        "pyplot.show()"
      ],
      "execution_count": 68,
      "outputs": [
        {
          "output_type": "display_data",
          "data": {
            "image/png": "[encoded data removed]",
            "text/plain": [
              "<Figure size 432x288 with 9 Axes>"
            ]
          },
          "metadata": {
            "tags": []
          }
        }
      ]
    },
    {
      "metadata": {
        "id": "xruMZvRmX8lt",
        "colab_type": "text"
      },
      "cell_type": "markdown",
      "source": [
        "## Preparing the image data"
      ]
    },
    {
      "metadata": {
        "id": "Wmd4hbL3X8lu",
        "colab_type": "code",
        "colab": {}
      },
      "cell_type": "code",
      "source": [
        "#reshape data to fit model\n",
        "\n",
        "train_images = train_images.astype('float32') /255\n",
        "\n",
        "test_images_final = test_images_final.astype('float32') /255"
      ],
      "execution_count": 0,
      "outputs": []
    },
    {
      "metadata": {
        "id": "3nIMIcv6X8lw",
        "colab_type": "text"
      },
      "cell_type": "markdown",
      "source": [
        "## The network architecture"
      ]
    },
    {
      "metadata": {
        "id": "BxpuHyC3X8lw",
        "colab_type": "code",
        "colab": {}
      },
      "cell_type": "code",
      "source": [
        "import tensorflow as tf\n",
        "network = tf.keras.models.Sequential([\n",
        "    tf.keras.layers.ZeroPadding2D(padding=(1, 1), data_format=None,input_shape=(28, 28, 1)),\n",
        "    tf.keras.layers.Conv2D(32, (5,5), activation='relu'),\n",
        "    tf.keras.layers.ZeroPadding2D(padding=(1, 1), data_format=None),\n",
        "    tf.keras.layers.Conv2D(64, (6,6), activation='relu'),\n",
        "    tf.keras.layers.ZeroPadding2D(padding=(1, 1), data_format=None),\n",
        "    tf.keras.layers.Conv2D(64, (7,7), activation='relu'),\n",
        "    tf.keras.layers.MaxPooling2D(5,5),\n",
        "    tf.keras.layers.Dropout(0.2),\n",
        "    tf.keras.layers.Flatten(),\n",
        "    tf.keras.layers.Dense(128, activation='relu'),\n",
        "    tf.keras.layers.Dropout(0.45),\n",
        "    tf.keras.layers.Dense(10, activation='softmax')\n",
        "])"
      ],
      "execution_count": 0,
      "outputs": []
    },
    {
      "metadata": {
        "id": "4N42PZvrX8ly",
        "colab_type": "text"
      },
      "cell_type": "markdown",
      "source": [
        "## The compilation step"
      ]
    },
    {
      "metadata": {
        "id": "3jwrndmJX8lz",
        "colab_type": "code",
        "colab": {}
      },
      "cell_type": "code",
      "source": [
        "from keras import optimizers\n",
        "\n",
        "#network.compile(optimizer=RMSprop(lr=0.001),\n",
        "network.compile(optimizer=Adam(lr=0.001),\n",
        "loss='categorical_crossentropy',\n",
        "metrics=['accuracy'])"
      ],
      "execution_count": 0,
      "outputs": []
    },
    {
      "metadata": {
        "id": "ObKvbFui24Oa",
        "colab_type": "code",
        "outputId": "02adc20a-dcc4-433d-bede-1916e1e6729c",
        "colab": {
          "base_uri": "https://localhost:8080/",
          "height": 544
        }
      },
      "cell_type": "code",
      "source": [
        "network.summary()"
      ],
      "execution_count": 72,
      "outputs": [
        {
          "output_type": "stream",
          "text": [
            "_________________________________________________________________\n",
            "Layer (type)                 Output Shape              Param #   \n",
            "=================================================================\n",
            "zero_padding2d_12 (ZeroPaddi (None, 30, 30, 1)         0         \n",
            "_________________________________________________________________\n",
            "conv2d_12 (Conv2D)           (None, 26, 26, 32)        832       \n",
            "_________________________________________________________________\n",
            "zero_padding2d_13 (ZeroPaddi (None, 28, 28, 32)        0         \n",
            "_________________________________________________________________\n",
            "conv2d_13 (Conv2D)           (None, 23, 23, 64)        73792     \n",
            "_________________________________________________________________\n",
            "zero_padding2d_14 (ZeroPaddi (None, 25, 25, 64)        0         \n",
            "_________________________________________________________________\n",
            "conv2d_14 (Conv2D)           (None, 19, 19, 64)        200768    \n",
            "_________________________________________________________________\n",
            "max_pooling2d_4 (MaxPooling2 (None, 3, 3, 64)          0         \n",
            "_________________________________________________________________\n",
            "dropout_8 (Dropout)          (None, 3, 3, 64)          0         \n",
            "_________________________________________________________________\n",
            "flatten_4 (Flatten)          (None, 576)               0         \n",
            "_________________________________________________________________\n",
            "dense_8 (Dense)              (None, 128)               73856     \n",
            "_________________________________________________________________\n",
            "dropout_9 (Dropout)          (None, 128)               0         \n",
            "_________________________________________________________________\n",
            "dense_9 (Dense)              (None, 10)                1290      \n",
            "=================================================================\n",
            "Total params: 350,538\n",
            "Trainable params: 350,538\n",
            "Non-trainable params: 0\n",
            "_________________________________________________________________\n"
          ],
          "name": "stdout"
        }
      ]
    },
    {
      "metadata": {
        "id": "-6wR1pz9X8l1",
        "colab_type": "text"
      },
      "cell_type": "markdown",
      "source": [
        "## Spliting the Train data "
      ]
    },
    {
      "metadata": {
        "id": "3qh4c-ZBX8l2",
        "colab_type": "code",
        "colab": {}
      },
      "cell_type": "code",
      "source": [
        "from sklearn.model_selection  import train_test_split\n",
        "X_train, X_test, y_train, y_test = train_test_split(train_images, y_train, test_size=0.15)"
      ],
      "execution_count": 0,
      "outputs": []
    },
    {
      "metadata": {
        "id": "4cRWd6zmX8l4",
        "colab_type": "code",
        "outputId": "a41f47bf-7028-4397-8f39-09053a4d9755",
        "colab": {
          "base_uri": "https://localhost:8080/",
          "height": 34
        }
      },
      "cell_type": "code",
      "source": [
        "from keras.utils import to_categorical\n",
        "train_labels = to_categorical(y_train)\n",
        "test_labels = to_categorical(y_test)\n",
        "train_labels.shape\n",
        "\n"
      ],
      "execution_count": 74,
      "outputs": [
        {
          "output_type": "execute_result",
          "data": {
            "text/plain": [
              "(35700, 10)"
            ]
          },
          "metadata": {
            "tags": []
          },
          "execution_count": 74
        }
      ]
    },
    {
      "metadata": {
        "id": "RcyQtOAjiL_6",
        "colab_type": "text"
      },
      "cell_type": "markdown",
      "source": [
        "## Pre Processing"
      ]
    },
    {
      "metadata": {
        "id": "WnCRIjmsjZUY",
        "colab_type": "text"
      },
      "cell_type": "markdown",
      "source": [
        "## Image augmentaion  \n",
        "Creating another set of image augmentaion  "
      ]
    },
    {
      "metadata": {
        "id": "0YKBs0caxsrG",
        "colab_type": "code",
        "outputId": "9428d1f2-ff96-421d-957e-aa315df9a6b8",
        "colab": {
          "base_uri": "https://localhost:8080/",
          "height": 269
        }
      },
      "cell_type": "code",
      "source": [
        "#datagen = ImageDataGenerator(featurewise_center=True, featurewise_std_normalization=True)\n",
        "datagen = ImageDataGenerator( rotation_range=10,  \n",
        "        zoom_range = 0.10,  \n",
        "        width_shift_range=0.1, \n",
        "        height_shift_range=0.1)\n",
        "# fit parameters from data\n",
        "datagen.fit(X_train)\n",
        "\n",
        "for X_batch, y_batch in datagen.flow(X_trainS, y_trainS, batch_size=35700):\n",
        "  \n",
        "  break\n",
        "  \n",
        "X_trainE = X_batch\n",
        "y_trainE = y_batch\n",
        "\n",
        "\n",
        "for i in range(0, 9):\n",
        "\t\tpyplot.subplot(330 + 1 + i)\n",
        "\t\tpyplot.imshow(X_trainE[i].reshape(28, 28), cmap=pyplot.get_cmap('gray'))\n",
        "\t# show the plot\n",
        "pyplot.show()\n",
        "\n",
        "\n"
      ],
      "execution_count": 75,
      "outputs": [
        {
          "output_type": "display_data",
          "data": {
            "image/png": "[encoded data removed]",
            "text/plain": [
              "<Figure size 432x288 with 9 Axes>"
            ]
          },
          "metadata": {
            "tags": []
          }
        }
      ]
    },
    {
      "metadata": {
        "colab_type": "code",
        "id": "NLS7MJW-LeA9",
        "colab": {
          "base_uri": "https://localhost:8080/",
          "height": 51
        },
        "outputId": "f127df74-aedb-4be1-9583-969af576d700"
      },
      "cell_type": "code",
      "source": [
        "\n",
        "X_Combine = np.concatenate((X_train,X_trainE),axis=0)\n",
        "y_combine = np.concatenate((train_labels,y_trainE),axis=0)\n",
        "print(X_Combine.shape)\n",
        "print(y_combine.shape)"
      ],
      "execution_count": 77,
      "outputs": [
        {
          "output_type": "stream",
          "text": [
            "(71400, 28, 28, 1)\n",
            "(71400, 10)\n"
          ],
          "name": "stdout"
        }
      ]
    },
    {
      "metadata": {
        "id": "XwsmnaP6jfUL",
        "colab_type": "text"
      },
      "cell_type": "markdown",
      "source": [
        ""
      ]
    },
    {
      "metadata": {
        "id": "v9AasyL4X8l4",
        "colab_type": "text"
      },
      "cell_type": "markdown",
      "source": [
        "## Preparing the labels"
      ]
    },
    {
      "metadata": {
        "id": "hx-jtSFxX8l6",
        "colab_type": "text"
      },
      "cell_type": "markdown",
      "source": [
        "## Fit the Network"
      ]
    },
    {
      "metadata": {
        "id": "tLAT1dxVX8l7",
        "colab_type": "code",
        "outputId": "8a7f5fe7-ecae-4193-cf67-edfb23582c5b",
        "colab": {
          "base_uri": "https://localhost:8080/",
          "height": 1054
        }
      },
      "cell_type": "code",
      "source": [
        "history = network.fit(X_Combine, y_combine, epochs=30, batch_size=512,validation_data=(X_test,test_labels))"
      ],
      "execution_count": 78,
      "outputs": [
        {
          "output_type": "stream",
          "text": [
            "Train on 71400 samples, validate on 6300 samples\n",
            "Epoch 1/30\n",
            "71400/71400 [==============================] - 9s 125us/sample - loss: 0.5492 - acc: 0.8382 - val_loss: 0.0686 - val_acc: 0.9824\n",
            "Epoch 2/30\n",
            "71400/71400 [==============================] - 8s 107us/sample - loss: 0.1366 - acc: 0.9603 - val_loss: 0.0354 - val_acc: 0.9902\n",
            "Epoch 3/30\n",
            "71400/71400 [==============================] - 8s 107us/sample - loss: 0.0916 - acc: 0.9735 - val_loss: 0.0282 - val_acc: 0.9924\n",
            "Epoch 4/30\n",
            "71400/71400 [==============================] - 8s 108us/sample - loss: 0.0704 - acc: 0.9792 - val_loss: 0.0223 - val_acc: 0.9941\n",
            "Epoch 5/30\n",
            "71400/71400 [==============================] - 8s 109us/sample - loss: 0.0587 - acc: 0.9820 - val_loss: 0.0223 - val_acc: 0.9929\n",
            "Epoch 6/30\n",
            "71400/71400 [==============================] - 8s 108us/sample - loss: 0.0496 - acc: 0.9854 - val_loss: 0.0162 - val_acc: 0.9946\n",
            "Epoch 7/30\n",
            "71400/71400 [==============================] - 8s 108us/sample - loss: 0.0444 - acc: 0.9868 - val_loss: 0.0168 - val_acc: 0.9948\n",
            "Epoch 8/30\n",
            "71400/71400 [==============================] - 8s 108us/sample - loss: 0.0392 - acc: 0.9886 - val_loss: 0.0135 - val_acc: 0.9943\n",
            "Epoch 9/30\n",
            "71400/71400 [==============================] - 8s 108us/sample - loss: 0.0326 - acc: 0.9904 - val_loss: 0.0124 - val_acc: 0.9949\n",
            "Epoch 10/30\n",
            "71400/71400 [==============================] - 8s 108us/sample - loss: 0.0297 - acc: 0.9910 - val_loss: 0.0150 - val_acc: 0.9946\n",
            "Epoch 11/30\n",
            "71400/71400 [==============================] - 8s 109us/sample - loss: 0.0290 - acc: 0.9907 - val_loss: 0.0137 - val_acc: 0.9951\n",
            "Epoch 12/30\n",
            "71400/71400 [==============================] - 8s 108us/sample - loss: 0.0246 - acc: 0.9926 - val_loss: 0.0119 - val_acc: 0.9954\n",
            "Epoch 13/30\n",
            "71400/71400 [==============================] - 8s 109us/sample - loss: 0.0254 - acc: 0.9927 - val_loss: 0.0120 - val_acc: 0.9959\n",
            "Epoch 14/30\n",
            "71400/71400 [==============================] - 8s 109us/sample - loss: 0.0230 - acc: 0.9934 - val_loss: 0.0160 - val_acc: 0.9954\n",
            "Epoch 15/30\n",
            "71400/71400 [==============================] - 8s 110us/sample - loss: 0.0220 - acc: 0.9931 - val_loss: 0.0108 - val_acc: 0.9962\n",
            "Epoch 16/30\n",
            "71400/71400 [==============================] - 8s 109us/sample - loss: 0.0206 - acc: 0.9935 - val_loss: 0.0143 - val_acc: 0.9957\n",
            "Epoch 17/30\n",
            "71400/71400 [==============================] - 8s 109us/sample - loss: 0.0207 - acc: 0.9938 - val_loss: 0.0113 - val_acc: 0.9960\n",
            "Epoch 18/30\n",
            "71400/71400 [==============================] - 8s 109us/sample - loss: 0.0193 - acc: 0.9941 - val_loss: 0.0104 - val_acc: 0.9967\n",
            "Epoch 19/30\n",
            "71400/71400 [==============================] - 8s 109us/sample - loss: 0.0167 - acc: 0.9949 - val_loss: 0.0133 - val_acc: 0.9967\n",
            "Epoch 20/30\n",
            "71400/71400 [==============================] - 8s 109us/sample - loss: 0.0187 - acc: 0.9945 - val_loss: 0.0125 - val_acc: 0.9959\n",
            "Epoch 21/30\n",
            "71400/71400 [==============================] - 8s 109us/sample - loss: 0.0169 - acc: 0.9946 - val_loss: 0.0094 - val_acc: 0.9965\n",
            "Epoch 22/30\n",
            "71400/71400 [==============================] - 8s 109us/sample - loss: 0.0152 - acc: 0.9952 - val_loss: 0.0117 - val_acc: 0.9962\n",
            "Epoch 23/30\n",
            "71400/71400 [==============================] - 8s 109us/sample - loss: 0.0152 - acc: 0.9955 - val_loss: 0.0097 - val_acc: 0.9967\n",
            "Epoch 24/30\n",
            "71400/71400 [==============================] - 8s 109us/sample - loss: 0.0149 - acc: 0.9953 - val_loss: 0.0113 - val_acc: 0.9971\n",
            "Epoch 25/30\n",
            "71400/71400 [==============================] - 8s 110us/sample - loss: 0.0138 - acc: 0.9960 - val_loss: 0.0115 - val_acc: 0.9960\n",
            "Epoch 26/30\n",
            "71400/71400 [==============================] - 8s 110us/sample - loss: 0.0137 - acc: 0.9960 - val_loss: 0.0122 - val_acc: 0.9959\n",
            "Epoch 27/30\n",
            "71400/71400 [==============================] - 8s 108us/sample - loss: 0.0123 - acc: 0.9965 - val_loss: 0.0126 - val_acc: 0.9957\n",
            "Epoch 28/30\n",
            "71400/71400 [==============================] - 8s 108us/sample - loss: 0.0147 - acc: 0.9959 - val_loss: 0.0114 - val_acc: 0.9965\n",
            "Epoch 29/30\n",
            "71400/71400 [==============================] - 8s 108us/sample - loss: 0.0118 - acc: 0.9963 - val_loss: 0.0102 - val_acc: 0.9973\n",
            "Epoch 30/30\n",
            "71400/71400 [==============================] - 8s 108us/sample - loss: 0.0145 - acc: 0.9956 - val_loss: 0.0109 - val_acc: 0.9967\n"
          ],
          "name": "stdout"
        }
      ]
    },
    {
      "metadata": {
        "id": "0oQT5hm7X8mB",
        "colab_type": "text"
      },
      "cell_type": "markdown",
      "source": [
        "## Model Performances "
      ]
    },
    {
      "metadata": {
        "id": "fIm4FfGvX8mC",
        "colab_type": "code",
        "outputId": "5920b2f1-d151-4dbe-f5a9-5a755e59acd8",
        "colab": {
          "base_uri": "https://localhost:8080/",
          "height": 51
        }
      },
      "cell_type": "code",
      "source": [
        "test_loss, test_acc = network.evaluate(X_test, test_labels)\n",
        "print('test_acc:', test_acc)"
      ],
      "execution_count": 79,
      "outputs": [
        {
          "output_type": "stream",
          "text": [
            "6300/6300 [==============================] - 1s 97us/sample - loss: 0.0109 - acc: 0.9967\n",
            "test_acc: 0.99666667\n"
          ],
          "name": "stdout"
        }
      ]
    },
    {
      "metadata": {
        "id": "TibfEEf2X8mG",
        "colab_type": "code",
        "colab": {}
      },
      "cell_type": "code",
      "source": [
        "#Make Prediction\n",
        "predict = network.predict(test_images_final)\n",
        "#Convert the results to the digits value \n",
        "y_classes = [np.argmax(y, axis=None, out=None) for y in predict]"
      ],
      "execution_count": 0,
      "outputs": []
    },
    {
      "metadata": {
        "id": "_Fh0udljX8mK",
        "colab_type": "text"
      },
      "cell_type": "markdown",
      "source": [
        "## Plotting the training and validation loss"
      ]
    },
    {
      "metadata": {
        "id": "XYZ0e1MxX8mL",
        "colab_type": "code",
        "outputId": "9ba9e2fa-f466-4fca-d523-d2f5c5c5d132",
        "colab": {
          "base_uri": "https://localhost:8080/",
          "height": 295
        }
      },
      "cell_type": "code",
      "source": [
        "import matplotlib.pyplot as plt\n",
        "history_dict = history.history\n",
        "loss_values = history_dict['loss']\n",
        "val_loss_values = history_dict['val_loss']\n",
        "epochs = range (1,len(history_dict['loss'])+1)\n",
        "#epochs = range(1, 36)\n",
        "plt.plot(epochs, loss_values, 'bo', label='Training loss')\n",
        "plt.plot(epochs, val_loss_values, 'b', label='Validation loss')\n",
        "plt.title('Training and validation loss')\n",
        "plt.xlabel('Epochs')\n",
        "plt.ylabel('Loss')\n",
        "plt.legend()\n",
        "plt.show()"
      ],
      "execution_count": 81,
      "outputs": [
        {
          "output_type": "display_data",
          "data": {
            "image/png": "[encoded data removed]",
            "text/plain": [
              "<Figure size 432x288 with 1 Axes>"
            ]
          },
          "metadata": {
            "tags": []
          }
        }
      ]
    },
    {
      "metadata": {
        "id": "R1GZCUnfX8mN",
        "colab_type": "code",
        "colab": {}
      },
      "cell_type": "code",
      "source": [
        "x = list(range(1, 28001))\n",
        "df = pd.DataFrame({'ImageId' :x,'Label':y_classes})\n",
        "df.to_csv(\"digitcnn2_E2.csv\",index=False)\n"
      ],
      "execution_count": 0,
      "outputs": []
    },
    {
      "metadata": {
        "id": "6pvah8MfxjFM",
        "colab_type": "code",
        "colab": {}
      },
      "cell_type": "code",
      "source": [
        "from google.colab import files\n",
        "files.download('digitcnn2_E2.csv') "
      ],
      "execution_count": 0,
      "outputs": []
    },
    {
      "metadata": {
        "id": "0zIQGdC6X8mO",
        "colab_type": "text"
      },
      "cell_type": "markdown",
      "source": [
        "## Example of Real Image"
      ]
    },
    {
      "metadata": {
        "id": "NEk2UwbTjfbc",
        "colab_type": "code",
        "colab": {}
      },
      "cell_type": "code",
      "source": [
        ""
      ],
      "execution_count": 0,
      "outputs": []
    }
  ]
}