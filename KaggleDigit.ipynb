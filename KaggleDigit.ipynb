{
 "cells": [
  {
   "cell_type": "code",
   "execution_count": 234,
   "metadata": {},
   "outputs": [],
   "source": [
    "from keras import models\n",
    "from keras import layers\n",
    "import pandas as pd\n",
    "import numpy as np\n"
   ]
  },
  {
   "cell_type": "markdown",
   "metadata": {},
   "source": [
    "## Read Data "
   ]
  },
  {
   "cell_type": "markdown",
   "metadata": {},
   "source": [
    "Read the train and test data "
   ]
  },
  {
   "cell_type": "code",
   "execution_count": 235,
   "metadata": {},
   "outputs": [],
   "source": [
    "Train = pd.read_csv(\"train_digits.csv\")\n",
    "Test = pd.read_csv(\"test_digits.csv\")"
   ]
  },
  {
   "cell_type": "code",
   "execution_count": 236,
   "metadata": {},
   "outputs": [
    {
     "name": "stdout",
     "output_type": "stream",
     "text": [
      "(42000, 785)\n"
     ]
    }
   ],
   "source": [
    "print(Train.shape)"
   ]
  },
  {
   "cell_type": "code",
   "execution_count": 237,
   "metadata": {},
   "outputs": [
    {
     "data": {
      "text/html": [
       "<div>\n",
       "<style scoped>\n",
       "    .dataframe tbody tr th:only-of-type {\n",
       "        vertical-align: middle;\n",
       "    }\n",
       "\n",
       "    .dataframe tbody tr th {\n",
       "        vertical-align: top;\n",
       "    }\n",
       "\n",
       "    .dataframe thead th {\n",
       "        text-align: right;\n",
       "    }\n",
       "</style>\n",
       "<table border=\"1\" class=\"dataframe\">\n",
       "  <thead>\n",
       "    <tr style=\"text-align: right;\">\n",
       "      <th></th>\n",
       "      <th>label</th>\n",
       "      <th>pixel0</th>\n",
       "      <th>pixel1</th>\n",
       "      <th>pixel2</th>\n",
       "      <th>pixel3</th>\n",
       "      <th>pixel4</th>\n",
       "      <th>pixel5</th>\n",
       "      <th>pixel6</th>\n",
       "      <th>pixel7</th>\n",
       "      <th>pixel8</th>\n",
       "      <th>...</th>\n",
       "      <th>pixel774</th>\n",
       "      <th>pixel775</th>\n",
       "      <th>pixel776</th>\n",
       "      <th>pixel777</th>\n",
       "      <th>pixel778</th>\n",
       "      <th>pixel779</th>\n",
       "      <th>pixel780</th>\n",
       "      <th>pixel781</th>\n",
       "      <th>pixel782</th>\n",
       "      <th>pixel783</th>\n",
       "    </tr>\n",
       "  </thead>\n",
       "  <tbody>\n",
       "    <tr>\n",
       "      <th>0</th>\n",
       "      <td>1</td>\n",
       "      <td>0</td>\n",
       "      <td>0</td>\n",
       "      <td>0</td>\n",
       "      <td>0</td>\n",
       "      <td>0</td>\n",
       "      <td>0</td>\n",
       "      <td>0</td>\n",
       "      <td>0</td>\n",
       "      <td>0</td>\n",
       "      <td>...</td>\n",
       "      <td>0</td>\n",
       "      <td>0</td>\n",
       "      <td>0</td>\n",
       "      <td>0</td>\n",
       "      <td>0</td>\n",
       "      <td>0</td>\n",
       "      <td>0</td>\n",
       "      <td>0</td>\n",
       "      <td>0</td>\n",
       "      <td>0</td>\n",
       "    </tr>\n",
       "    <tr>\n",
       "      <th>1</th>\n",
       "      <td>0</td>\n",
       "      <td>0</td>\n",
       "      <td>0</td>\n",
       "      <td>0</td>\n",
       "      <td>0</td>\n",
       "      <td>0</td>\n",
       "      <td>0</td>\n",
       "      <td>0</td>\n",
       "      <td>0</td>\n",
       "      <td>0</td>\n",
       "      <td>...</td>\n",
       "      <td>0</td>\n",
       "      <td>0</td>\n",
       "      <td>0</td>\n",
       "      <td>0</td>\n",
       "      <td>0</td>\n",
       "      <td>0</td>\n",
       "      <td>0</td>\n",
       "      <td>0</td>\n",
       "      <td>0</td>\n",
       "      <td>0</td>\n",
       "    </tr>\n",
       "    <tr>\n",
       "      <th>2</th>\n",
       "      <td>1</td>\n",
       "      <td>0</td>\n",
       "      <td>0</td>\n",
       "      <td>0</td>\n",
       "      <td>0</td>\n",
       "      <td>0</td>\n",
       "      <td>0</td>\n",
       "      <td>0</td>\n",
       "      <td>0</td>\n",
       "      <td>0</td>\n",
       "      <td>...</td>\n",
       "      <td>0</td>\n",
       "      <td>0</td>\n",
       "      <td>0</td>\n",
       "      <td>0</td>\n",
       "      <td>0</td>\n",
       "      <td>0</td>\n",
       "      <td>0</td>\n",
       "      <td>0</td>\n",
       "      <td>0</td>\n",
       "      <td>0</td>\n",
       "    </tr>\n",
       "    <tr>\n",
       "      <th>3</th>\n",
       "      <td>4</td>\n",
       "      <td>0</td>\n",
       "      <td>0</td>\n",
       "      <td>0</td>\n",
       "      <td>0</td>\n",
       "      <td>0</td>\n",
       "      <td>0</td>\n",
       "      <td>0</td>\n",
       "      <td>0</td>\n",
       "      <td>0</td>\n",
       "      <td>...</td>\n",
       "      <td>0</td>\n",
       "      <td>0</td>\n",
       "      <td>0</td>\n",
       "      <td>0</td>\n",
       "      <td>0</td>\n",
       "      <td>0</td>\n",
       "      <td>0</td>\n",
       "      <td>0</td>\n",
       "      <td>0</td>\n",
       "      <td>0</td>\n",
       "    </tr>\n",
       "    <tr>\n",
       "      <th>4</th>\n",
       "      <td>0</td>\n",
       "      <td>0</td>\n",
       "      <td>0</td>\n",
       "      <td>0</td>\n",
       "      <td>0</td>\n",
       "      <td>0</td>\n",
       "      <td>0</td>\n",
       "      <td>0</td>\n",
       "      <td>0</td>\n",
       "      <td>0</td>\n",
       "      <td>...</td>\n",
       "      <td>0</td>\n",
       "      <td>0</td>\n",
       "      <td>0</td>\n",
       "      <td>0</td>\n",
       "      <td>0</td>\n",
       "      <td>0</td>\n",
       "      <td>0</td>\n",
       "      <td>0</td>\n",
       "      <td>0</td>\n",
       "      <td>0</td>\n",
       "    </tr>\n",
       "  </tbody>\n",
       "</table>\n",
       "<p>5 rows × 785 columns</p>\n",
       "</div>"
      ],
      "text/plain": [
       "   label  pixel0  pixel1  pixel2  pixel3  pixel4  pixel5  pixel6  pixel7  \\\n",
       "0      1       0       0       0       0       0       0       0       0   \n",
       "1      0       0       0       0       0       0       0       0       0   \n",
       "2      1       0       0       0       0       0       0       0       0   \n",
       "3      4       0       0       0       0       0       0       0       0   \n",
       "4      0       0       0       0       0       0       0       0       0   \n",
       "\n",
       "   pixel8    ...     pixel774  pixel775  pixel776  pixel777  pixel778  \\\n",
       "0       0    ...            0         0         0         0         0   \n",
       "1       0    ...            0         0         0         0         0   \n",
       "2       0    ...            0         0         0         0         0   \n",
       "3       0    ...            0         0         0         0         0   \n",
       "4       0    ...            0         0         0         0         0   \n",
       "\n",
       "   pixel779  pixel780  pixel781  pixel782  pixel783  \n",
       "0         0         0         0         0         0  \n",
       "1         0         0         0         0         0  \n",
       "2         0         0         0         0         0  \n",
       "3         0         0         0         0         0  \n",
       "4         0         0         0         0         0  \n",
       "\n",
       "[5 rows x 785 columns]"
      ]
     },
     "execution_count": 237,
     "metadata": {},
     "output_type": "execute_result"
    }
   ],
   "source": [
    "Train.head()"
   ]
  },
  {
   "cell_type": "code",
   "execution_count": 238,
   "metadata": {},
   "outputs": [
    {
     "data": {
      "text/plain": [
       "(42000, 28, 28)"
      ]
     },
     "execution_count": 238,
     "metadata": {},
     "output_type": "execute_result"
    }
   ],
   "source": [
    "#Read the labels into a seprate array\n",
    "y_train = Train['label'].values\n",
    "\n",
    "#convert the images into a matrix of size 42,000 X 28 X 28 \n",
    "train_images = Train.loc[:,Train.columns != 'label'].values\n",
    "train_images = train_images.reshape(42000,28,28)\n",
    "train_images.shape\n"
   ]
  },
  {
   "cell_type": "code",
   "execution_count": 239,
   "metadata": {},
   "outputs": [
    {
     "data": {
      "text/plain": [
       "(28000, 28, 28)"
      ]
     },
     "execution_count": 239,
     "metadata": {},
     "output_type": "execute_result"
    }
   ],
   "source": [
    "\n",
    "#convert the images into a matrix of size 28,000 X 28 X 28 \n",
    "test_images = Test.values\n",
    "test_images_final = test_images.reshape(28000,28,28)\n",
    "test_images_final.shape\n"
   ]
  },
  {
   "cell_type": "markdown",
   "metadata": {},
   "source": [
    "## Displaying an Example of a digit"
   ]
  },
  {
   "cell_type": "code",
   "execution_count": 240,
   "metadata": {},
   "outputs": [
    {
     "data": {
      "image/png": "[encoded data removed]",
      "text/plain": [
       "<Figure size 432x288 with 1 Axes>"
      ]
     },
     "metadata": {
      "needs_background": "light"
     },
     "output_type": "display_data"
    }
   ],
   "source": [
    "import matplotlib.pyplot as plt\n",
    "digit = train_images[14]\n",
    "plt.imshow(digit, cmap=plt.cm.binary)\n",
    "plt.show()"
   ]
  },
  {
   "cell_type": "code",
   "execution_count": 241,
   "metadata": {},
   "outputs": [
    {
     "data": {
      "image/png": "[encoded data removed]",
      "text/plain": [
       "<Figure size 432x288 with 1 Axes>"
      ]
     },
     "metadata": {
      "needs_background": "light"
     },
     "output_type": "display_data"
    }
   ],
   "source": [
    "import matplotlib.pyplot as plt\n",
    "digit = test_images_final[2]\n",
    "plt.imshow(digit, cmap=plt.cm.binary)\n",
    "plt.show()"
   ]
  },
  {
   "cell_type": "markdown",
   "metadata": {},
   "source": [
    "## Preparing the image data"
   ]
  },
  {
   "cell_type": "code",
   "execution_count": 242,
   "metadata": {},
   "outputs": [],
   "source": [
    "train_images = train_images.reshape((42000, 28 * 28))\n",
    "train_images = train_images.astype('float32') / 255\n",
    "test_images_final = test_images_final.reshape((28000, 28 * 28))\n",
    "test_images_final = test_images_final.astype('float32') / 255"
   ]
  },
  {
   "cell_type": "markdown",
   "metadata": {},
   "source": [
    "## The network architecture"
   ]
  },
  {
   "cell_type": "code",
   "execution_count": 243,
   "metadata": {},
   "outputs": [],
   "source": [
    "network = models.Sequential()\n",
    "network.add(layers.Dense(512, activation='relu', input_shape=(28 * 28,)))\n",
    "network.add(layers.Dense(10, activation='softmax'))"
   ]
  },
  {
   "cell_type": "markdown",
   "metadata": {},
   "source": [
    "## The compilation step"
   ]
  },
  {
   "cell_type": "code",
   "execution_count": 244,
   "metadata": {},
   "outputs": [],
   "source": [
    "from keras import optimizers\n",
    "network.compile(optimizer='rmsprop',\n",
    "loss='categorical_crossentropy',\n",
    "metrics=['accuracy'])\n",
    "\n",
    "network.compile(optimizer=optimizers.RMSprop(lr=0.001),\n",
    "loss='categorical_crossentropy',\n",
    "metrics=['accuracy'])"
   ]
  },
  {
   "cell_type": "markdown",
   "metadata": {},
   "source": [
    "## Spliting the Train data "
   ]
  },
  {
   "cell_type": "code",
   "execution_count": 245,
   "metadata": {},
   "outputs": [],
   "source": [
    "from sklearn.model_selection  import train_test_split\n",
    "X_train, X_test, y_train, y_test = train_test_split(train_images, y_train, test_size=0.33)"
   ]
  },
  {
   "cell_type": "markdown",
   "metadata": {},
   "source": [
    "## Preparing the labels"
   ]
  },
  {
   "cell_type": "code",
   "execution_count": 246,
   "metadata": {},
   "outputs": [],
   "source": [
    "from keras.utils import to_categorical\n",
    "train_labels = to_categorical(y_train)\n",
    "test_labels = to_categorical(y_test)\n"
   ]
  },
  {
   "cell_type": "markdown",
   "metadata": {},
   "source": [
    "## Fit the Network"
   ]
  },
  {
   "cell_type": "code",
   "execution_count": 247,
   "metadata": {},
   "outputs": [
    {
     "name": "stdout",
     "output_type": "stream",
     "text": [
      "Train on 28140 samples, validate on 13860 samples\n",
      "Epoch 1/25\n",
      "28140/28140 [==============================] - 2s 78us/step - loss: 0.3518 - acc: 0.8991 - val_loss: 0.2037 - val_acc: 0.9397\n",
      "Epoch 2/25\n",
      "28140/28140 [==============================] - 2s 69us/step - loss: 0.1537 - acc: 0.9568 - val_loss: 0.1420 - val_acc: 0.9570\n",
      "Epoch 3/25\n",
      "28140/28140 [==============================] - 2s 72us/step - loss: 0.1012 - acc: 0.9711 - val_loss: 0.1172 - val_acc: 0.9632\n",
      "Epoch 4/25\n",
      "28140/28140 [==============================] - 2s 72us/step - loss: 0.0720 - acc: 0.9790 - val_loss: 0.1234 - val_acc: 0.9629\n",
      "Epoch 5/25\n",
      "28140/28140 [==============================] - 2s 72us/step - loss: 0.0540 - acc: 0.9842 - val_loss: 0.0999 - val_acc: 0.9701\n",
      "Epoch 6/25\n",
      "28140/28140 [==============================] - 2s 71us/step - loss: 0.0386 - acc: 0.9887 - val_loss: 0.0957 - val_acc: 0.9718\n",
      "Epoch 7/25\n",
      "28140/28140 [==============================] - 2s 71us/step - loss: 0.0286 - acc: 0.9921 - val_loss: 0.1002 - val_acc: 0.9698\n",
      "Epoch 8/25\n",
      "28140/28140 [==============================] - 2s 70us/step - loss: 0.0206 - acc: 0.9940 - val_loss: 0.1143 - val_acc: 0.9667\n",
      "Epoch 9/25\n",
      "28140/28140 [==============================] - 2s 71us/step - loss: 0.0159 - acc: 0.9958 - val_loss: 0.1037 - val_acc: 0.9718\n",
      "Epoch 10/25\n",
      "28140/28140 [==============================] - 2s 72us/step - loss: 0.0114 - acc: 0.9974 - val_loss: 0.1054 - val_acc: 0.9722\n",
      "Epoch 11/25\n",
      "28140/28140 [==============================] - 2s 72us/step - loss: 0.0083 - acc: 0.9982 - val_loss: 0.1146 - val_acc: 0.9705\n",
      "Epoch 12/25\n",
      "28140/28140 [==============================] - 2s 71us/step - loss: 0.0060 - acc: 0.9985 - val_loss: 0.0979 - val_acc: 0.9747\n",
      "Epoch 13/25\n",
      "28140/28140 [==============================] - 2s 71us/step - loss: 0.0050 - acc: 0.9990 - val_loss: 0.1093 - val_acc: 0.9739\n",
      "Epoch 14/25\n",
      "28140/28140 [==============================] - 2s 72us/step - loss: 0.0038 - acc: 0.9992 - val_loss: 0.1123 - val_acc: 0.9752\n",
      "Epoch 15/25\n",
      "28140/28140 [==============================] - 2s 71us/step - loss: 0.0027 - acc: 0.9994 - val_loss: 0.1286 - val_acc: 0.9716\n",
      "Epoch 16/25\n",
      "28140/28140 [==============================] - 2s 75us/step - loss: 0.0020 - acc: 0.9996 - val_loss: 0.1197 - val_acc: 0.9742\n",
      "Epoch 17/25\n",
      "28140/28140 [==============================] - 2s 72us/step - loss: 0.0013 - acc: 0.9998 - val_loss: 0.1398 - val_acc: 0.9711\n",
      "Epoch 18/25\n",
      "28140/28140 [==============================] - 2s 72us/step - loss: 0.0011 - acc: 0.9998 - val_loss: 0.1239 - val_acc: 0.9758\n",
      "Epoch 19/25\n",
      "28140/28140 [==============================] - 2s 72us/step - loss: 0.0011 - acc: 0.9998 - val_loss: 0.1253 - val_acc: 0.9752\n",
      "Epoch 20/25\n",
      "28140/28140 [==============================] - 2s 72us/step - loss: 7.9909e-04 - acc: 0.9999 - val_loss: 0.1298 - val_acc: 0.9747\n",
      "Epoch 21/25\n",
      "28140/28140 [==============================] - 2s 72us/step - loss: 6.3958e-04 - acc: 0.9999 - val_loss: 0.1321 - val_acc: 0.9757\n",
      "Epoch 22/25\n",
      "28140/28140 [==============================] - 2s 73us/step - loss: 3.7104e-04 - acc: 1.0000 - val_loss: 0.1401 - val_acc: 0.9732\n",
      "Epoch 23/25\n",
      "28140/28140 [==============================] - 2s 76us/step - loss: 4.3121e-04 - acc: 0.9999 - val_loss: 0.1332 - val_acc: 0.9759\n",
      "Epoch 24/25\n",
      "28140/28140 [==============================] - 2s 74us/step - loss: 1.9204e-04 - acc: 1.0000 - val_loss: 0.1432 - val_acc: 0.9755\n",
      "Epoch 25/25\n",
      "28140/28140 [==============================] - 2s 72us/step - loss: 1.3470e-04 - acc: 1.0000 - val_loss: 0.1425 - val_acc: 0.9753\n"
     ]
    }
   ],
   "source": [
    "history = network.fit(X_train, train_labels, epochs=25, batch_size=128,validation_data=(X_test,test_labels))"
   ]
  },
  {
   "cell_type": "markdown",
   "metadata": {},
   "source": [
    "## Model Performances "
   ]
  },
  {
   "cell_type": "code",
   "execution_count": 248,
   "metadata": {},
   "outputs": [
    {
     "name": "stdout",
     "output_type": "stream",
     "text": [
      "13860/13860 [==============================] - 1s 42us/step\n",
      "test_acc: 0.9753246753246754\n"
     ]
    }
   ],
   "source": [
    "test_loss, test_acc = network.evaluate(X_test, test_labels)\n",
    "print('test_acc:', test_acc)"
   ]
  },
  {
   "cell_type": "code",
   "execution_count": 249,
   "metadata": {},
   "outputs": [],
   "source": [
    "#Make Prediction\n",
    "predict = network.predict(test_images_final)\n",
    "#Convert the results to the digits value \n",
    "y_classes = [np.argmax(y, axis=None, out=None) for y in predict]"
   ]
  },
  {
   "cell_type": "markdown",
   "metadata": {},
   "source": [
    "## Plotting the training and validation loss"
   ]
  },
  {
   "cell_type": "code",
   "execution_count": 250,
   "metadata": {},
   "outputs": [
    {
     "data": {
      "image/png": "[encoded data removed]",
      "text/plain": [
       "<Figure size 432x288 with 1 Axes>"
      ]
     },
     "metadata": {
      "needs_background": "light"
     },
     "output_type": "display_data"
    }
   ],
   "source": [
    "import matplotlib.pyplot as plt\n",
    "history_dict = history.history\n",
    "loss_values = history_dict['loss']\n",
    "val_loss_values = history_dict['val_loss']\n",
    "epochs = range (1,len(history_dict['loss'])+1)\n",
    "#epochs = range(1, 36)\n",
    "plt.plot(epochs, loss_values, 'bo', label='Training loss')\n",
    "plt.plot(epochs, val_loss_values, 'b', label='Validation loss')\n",
    "plt.title('Training and validation loss')\n",
    "plt.xlabel('Epochs')\n",
    "plt.ylabel('Loss')\n",
    "plt.legend()\n",
    "plt.show()"
   ]
  },
  {
   "cell_type": "code",
   "execution_count": 252,
   "metadata": {},
   "outputs": [],
   "source": [
    "x = list(range(1, 28001))\n",
    "df = pd.DataFrame({'ImageId' :x,'Label':y_classes})\n",
    "df.to_csv(\"digit6.csv\",index=False)\n"
   ]
  }
 ],
 "metadata": {
  "kernelspec": {
   "display_name": "Python 3",
   "language": "python",
   "name": "python3"
  },
  "language_info": {
   "codemirror_mode": {
    "name": "ipython",
    "version": 3
   },
   "file_extension": ".py",
   "mimetype": "text/x-python",
   "name": "python",
   "nbconvert_exporter": "python",
   "pygments_lexer": "ipython3",
   "version": "3.7.1"
  }
 },
 "nbformat": 4,
 "nbformat_minor": 2
}
