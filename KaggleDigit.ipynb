{
  "nbformat": 4,
  "nbformat_minor": 0,
  "metadata": {
    "colab": {
      "name": "KaggleDigit CNN With Image Augmentation .ipynb",
      "version": "0.3.2",
      "provenance": [],
      "collapsed_sections": []
    },
    "language_info": {
      "codemirror_mode": {
        "name": "ipython",
        "version": 3
      },
      "file_extension": ".py",
      "mimetype": "text/x-python",
      "name": "python",
      "nbconvert_exporter": "python",
      "pygments_lexer": "ipython3",
      "version": "3.7.1"
    },
    "kernelspec": {
      "name": "python3",
      "display_name": "Python 3"
    },
    "accelerator": "GPU"
  },
  "cells": [
    {
      "metadata": {
        "id": "t5B8jkveX8lU",
        "colab_type": "code",
        "colab": {}
      },
      "cell_type": "code",
      "source": [
        "from keras import models\n",
        "from keras import layers\n",
        "from keras.layers import Dense, Conv2D, Flatten,MaxPooling2D,Dropout,ZeroPadding2D\n",
        "from keras.preprocessing.image import ImageDataGenerator\n",
        "import pandas as pd\n",
        "import numpy as np\n",
        "from matplotlib import pyplot\n"
      ],
      "execution_count": 0,
      "outputs": []
    },
    {
      "metadata": {
        "id": "AkSHdWqbX8lX",
        "colab_type": "text"
      },
      "cell_type": "markdown",
      "source": [
        "## Read Data "
      ]
    },
    {
      "metadata": {
        "id": "0FDAM3kqxWO2",
        "colab_type": "text"
      },
      "cell_type": "markdown",
      "source": [
        "Ths option is  for Google Colab - Reading from Google Drive "
      ]
    },
    {
      "metadata": {
        "id": "79gIEXf9d2Nb",
        "colab_type": "code",
        "colab": {
          "base_uri": "https://localhost:8080/",
          "height": 139
        },
        "outputId": "37a53395-5ad1-4ebf-df99-8e06d4a9aa9d"
      },
      "cell_type": "code",
      "source": [
        "from google.colab import drive\n",
        "drive.mount('/content/gdrive')\n",
        "\n",
        "\n",
        "with open('/content/gdrive/My Drive/foo.txt', 'w') as f:\n",
        "  f.write('Hello Google Drive!')\n",
        "!cat /content/gdrive/My\\ Drive/foo.txt"
      ],
      "execution_count": 3,
      "outputs": [
        {
          "output_type": "stream",
          "text": [
            "Go to this URL in a browser: https://accounts.google.com/o/oauth2/auth?client_id=947318989803-6bn6qk8qdgf4n4g3pfee6491hc0brc4i.apps.googleusercontent.com&redirect_uri=urn%3Aietf%3Awg%3Aoauth%3A2.0%3Aoob&scope=email%20https%3A%2F%2Fwww.googleapis.com%2Fauth%2Fdocs.test%20https%3A%2F%2Fwww.googleapis.com%2Fauth%2Fdrive%20https%3A%2F%2Fwww.googleapis.com%2Fauth%2Fdrive.photos.readonly%20https%3A%2F%2Fwww.googleapis.com%2Fauth%2Fpeopleapi.readonly&response_type=code\n",
            "\n",
            "Enter your authorization code:\n",
            "··········\n",
            "Mounted at /content/gdrive\n",
            "Hello Google Drive!"
          ],
          "name": "stdout"
        }
      ]
    },
    {
      "metadata": {
        "id": "iDde5OHrX8lY",
        "colab_type": "code",
        "colab": {}
      },
      "cell_type": "code",
      "source": [
        ""
      ],
      "execution_count": 0,
      "outputs": []
    },
    {
      "metadata": {
        "id": "VoGfujVtX8lX",
        "colab_type": "text"
      },
      "cell_type": "markdown",
      "source": [
        "Read the train and test data from the drive "
      ]
    },
    {
      "metadata": {
        "id": "Ys7ecppaX8la",
        "colab_type": "code",
        "colab": {}
      },
      "cell_type": "code",
      "source": [
        "Train = pd.read_csv('/content/gdrive/My Drive/Colab Notebooks/train.csv')\n",
        "Test = pd.read_csv('/content/gdrive/My Drive/Colab Notebooks/test.csv')"
      ],
      "execution_count": 0,
      "outputs": []
    },
    {
      "metadata": {
        "id": "M-QAWulAxyvx",
        "colab_type": "text"
      },
      "cell_type": "markdown",
      "source": [
        "This option is to read localy the files "
      ]
    },
    {
      "metadata": {
        "id": "WALPOcSexxZR",
        "colab_type": "code",
        "colab": {}
      },
      "cell_type": "code",
      "source": [
        "Train = pd.read_csv(\"train_digits.csv\")\n",
        "Test = pd.read_csv(\"test_digits.csv\")"
      ],
      "execution_count": 0,
      "outputs": []
    },
    {
      "metadata": {
        "id": "BjAN8CYJX8ld",
        "colab_type": "code",
        "outputId": "d3c7ff1f-66f1-4c0a-96c7-f26e36797a50",
        "colab": {
          "base_uri": "https://localhost:8080/",
          "height": 233
        }
      },
      "cell_type": "code",
      "source": [
        "Train.head()"
      ],
      "execution_count": 33,
      "outputs": [
        {
          "output_type": "execute_result",
          "data": {
            "text/html": [
              "<div>\n",
              "<style scoped>\n",
              "    .dataframe tbody tr th:only-of-type {\n",
              "        vertical-align: middle;\n",
              "    }\n",
              "\n",
              "    .dataframe tbody tr th {\n",
              "        vertical-align: top;\n",
              "    }\n",
              "\n",
              "    .dataframe thead th {\n",
              "        text-align: right;\n",
              "    }\n",
              "</style>\n",
              "<table border=\"1\" class=\"dataframe\">\n",
              "  <thead>\n",
              "    <tr style=\"text-align: right;\">\n",
              "      <th></th>\n",
              "      <th>label</th>\n",
              "      <th>pixel0</th>\n",
              "      <th>pixel1</th>\n",
              "      <th>pixel2</th>\n",
              "      <th>pixel3</th>\n",
              "      <th>pixel4</th>\n",
              "      <th>pixel5</th>\n",
              "      <th>pixel6</th>\n",
              "      <th>pixel7</th>\n",
              "      <th>pixel8</th>\n",
              "      <th>...</th>\n",
              "      <th>pixel774</th>\n",
              "      <th>pixel775</th>\n",
              "      <th>pixel776</th>\n",
              "      <th>pixel777</th>\n",
              "      <th>pixel778</th>\n",
              "      <th>pixel779</th>\n",
              "      <th>pixel780</th>\n",
              "      <th>pixel781</th>\n",
              "      <th>pixel782</th>\n",
              "      <th>pixel783</th>\n",
              "    </tr>\n",
              "  </thead>\n",
              "  <tbody>\n",
              "    <tr>\n",
              "      <th>0</th>\n",
              "      <td>1</td>\n",
              "      <td>0</td>\n",
              "      <td>0</td>\n",
              "      <td>0</td>\n",
              "      <td>0</td>\n",
              "      <td>0</td>\n",
              "      <td>0</td>\n",
              "      <td>0</td>\n",
              "      <td>0</td>\n",
              "      <td>0</td>\n",
              "      <td>...</td>\n",
              "      <td>0</td>\n",
              "      <td>0</td>\n",
              "      <td>0</td>\n",
              "      <td>0</td>\n",
              "      <td>0</td>\n",
              "      <td>0</td>\n",
              "      <td>0</td>\n",
              "      <td>0</td>\n",
              "      <td>0</td>\n",
              "      <td>0</td>\n",
              "    </tr>\n",
              "    <tr>\n",
              "      <th>1</th>\n",
              "      <td>0</td>\n",
              "      <td>0</td>\n",
              "      <td>0</td>\n",
              "      <td>0</td>\n",
              "      <td>0</td>\n",
              "      <td>0</td>\n",
              "      <td>0</td>\n",
              "      <td>0</td>\n",
              "      <td>0</td>\n",
              "      <td>0</td>\n",
              "      <td>...</td>\n",
              "      <td>0</td>\n",
              "      <td>0</td>\n",
              "      <td>0</td>\n",
              "      <td>0</td>\n",
              "      <td>0</td>\n",
              "      <td>0</td>\n",
              "      <td>0</td>\n",
              "      <td>0</td>\n",
              "      <td>0</td>\n",
              "      <td>0</td>\n",
              "    </tr>\n",
              "    <tr>\n",
              "      <th>2</th>\n",
              "      <td>1</td>\n",
              "      <td>0</td>\n",
              "      <td>0</td>\n",
              "      <td>0</td>\n",
              "      <td>0</td>\n",
              "      <td>0</td>\n",
              "      <td>0</td>\n",
              "      <td>0</td>\n",
              "      <td>0</td>\n",
              "      <td>0</td>\n",
              "      <td>...</td>\n",
              "      <td>0</td>\n",
              "      <td>0</td>\n",
              "      <td>0</td>\n",
              "      <td>0</td>\n",
              "      <td>0</td>\n",
              "      <td>0</td>\n",
              "      <td>0</td>\n",
              "      <td>0</td>\n",
              "      <td>0</td>\n",
              "      <td>0</td>\n",
              "    </tr>\n",
              "    <tr>\n",
              "      <th>3</th>\n",
              "      <td>4</td>\n",
              "      <td>0</td>\n",
              "      <td>0</td>\n",
              "      <td>0</td>\n",
              "      <td>0</td>\n",
              "      <td>0</td>\n",
              "      <td>0</td>\n",
              "      <td>0</td>\n",
              "      <td>0</td>\n",
              "      <td>0</td>\n",
              "      <td>...</td>\n",
              "      <td>0</td>\n",
              "      <td>0</td>\n",
              "      <td>0</td>\n",
              "      <td>0</td>\n",
              "      <td>0</td>\n",
              "      <td>0</td>\n",
              "      <td>0</td>\n",
              "      <td>0</td>\n",
              "      <td>0</td>\n",
              "      <td>0</td>\n",
              "    </tr>\n",
              "    <tr>\n",
              "      <th>4</th>\n",
              "      <td>0</td>\n",
              "      <td>0</td>\n",
              "      <td>0</td>\n",
              "      <td>0</td>\n",
              "      <td>0</td>\n",
              "      <td>0</td>\n",
              "      <td>0</td>\n",
              "      <td>0</td>\n",
              "      <td>0</td>\n",
              "      <td>0</td>\n",
              "      <td>...</td>\n",
              "      <td>0</td>\n",
              "      <td>0</td>\n",
              "      <td>0</td>\n",
              "      <td>0</td>\n",
              "      <td>0</td>\n",
              "      <td>0</td>\n",
              "      <td>0</td>\n",
              "      <td>0</td>\n",
              "      <td>0</td>\n",
              "      <td>0</td>\n",
              "    </tr>\n",
              "  </tbody>\n",
              "</table>\n",
              "<p>5 rows × 785 columns</p>\n",
              "</div>"
            ],
            "text/plain": [
              "   label  pixel0  pixel1  pixel2  pixel3  pixel4  pixel5  pixel6  pixel7  \\\n",
              "0      1       0       0       0       0       0       0       0       0   \n",
              "1      0       0       0       0       0       0       0       0       0   \n",
              "2      1       0       0       0       0       0       0       0       0   \n",
              "3      4       0       0       0       0       0       0       0       0   \n",
              "4      0       0       0       0       0       0       0       0       0   \n",
              "\n",
              "   pixel8  ...  pixel774  pixel775  pixel776  pixel777  pixel778  pixel779  \\\n",
              "0       0  ...         0         0         0         0         0         0   \n",
              "1       0  ...         0         0         0         0         0         0   \n",
              "2       0  ...         0         0         0         0         0         0   \n",
              "3       0  ...         0         0         0         0         0         0   \n",
              "4       0  ...         0         0         0         0         0         0   \n",
              "\n",
              "   pixel780  pixel781  pixel782  pixel783  \n",
              "0         0         0         0         0  \n",
              "1         0         0         0         0  \n",
              "2         0         0         0         0  \n",
              "3         0         0         0         0  \n",
              "4         0         0         0         0  \n",
              "\n",
              "[5 rows x 785 columns]"
            ]
          },
          "metadata": {
            "tags": []
          },
          "execution_count": 33
        }
      ]
    },
    {
      "metadata": {
        "id": "NuFzs0PKX8lg",
        "colab_type": "code",
        "outputId": "cc51940b-00f9-47b6-88df-9e14d8596c75",
        "colab": {
          "base_uri": "https://localhost:8080/",
          "height": 34
        }
      },
      "cell_type": "code",
      "source": [
        "#Read the labels into a seprate array\n",
        "y_train = Train['label'].values\n",
        "\n",
        "#convert the images into a matrix of size 42,000 X 28 X 28 \n",
        "train_images = Train.loc[:,Train.columns != 'label'].values\n",
        "train_images = train_images.reshape(42000,28,28,1)\n",
        "train_images.shape\n"
      ],
      "execution_count": 54,
      "outputs": [
        {
          "output_type": "execute_result",
          "data": {
            "text/plain": [
              "(42000, 28, 28, 1)"
            ]
          },
          "metadata": {
            "tags": []
          },
          "execution_count": 54
        }
      ]
    },
    {
      "metadata": {
        "id": "hgAR3zXNyIEE",
        "colab_type": "text"
      },
      "cell_type": "markdown",
      "source": [
        "## Reshape\n",
        "Convert to the Keras expected sahpe"
      ]
    },
    {
      "metadata": {
        "id": "mxq5d6_UX8lk",
        "colab_type": "code",
        "outputId": "1c330f6a-426a-46b1-bd76-469cb474c08b",
        "colab": {
          "base_uri": "https://localhost:8080/",
          "height": 34
        }
      },
      "cell_type": "code",
      "source": [
        "\n",
        "#convert the images into a matrix of size 28,000 X 28 X 28 \n",
        "test_images = Test.values\n",
        "test_images_final = test_images.reshape(28000,28,28,1)\n",
        "test_images_final.shape\n"
      ],
      "execution_count": 55,
      "outputs": [
        {
          "output_type": "execute_result",
          "data": {
            "text/plain": [
              "(28000, 28, 28, 1)"
            ]
          },
          "metadata": {
            "tags": []
          },
          "execution_count": 55
        }
      ]
    },
    {
      "metadata": {
        "id": "E_oXnu8pX8ln",
        "colab_type": "text"
      },
      "cell_type": "markdown",
      "source": [
        "## Displaying Grid of some images"
      ]
    },
    {
      "metadata": {
        "id": "c3kJu5wxX8lo",
        "colab_type": "code",
        "outputId": "b117116c-3b50-4325-d694-398bd7a2f612",
        "colab": {
          "base_uri": "https://localhost:8080/",
          "height": 269
        }
      },
      "cell_type": "code",
      "source": [
        "# create a grid of 3x3 images\n",
        "for i in range(0, 9):\n",
        "\tpyplot.subplot(330 + 1 + i)\n",
        "\tpyplot.imshow(train_images[i].reshape(28,28), cmap=pyplot.get_cmap('gray'))\n",
        "# show the plot\n",
        "pyplot.show()"
      ],
      "execution_count": 56,
      "outputs": [
        {
          "output_type": "display_data",
          "data": {
            "image/png": "[encoded data removed]",
            "text/plain": [
              "<Figure size 432x288 with 9 Axes>"
            ]
          },
          "metadata": {
            "tags": []
          }
        }
      ]
    },
    {
      "metadata": {
        "id": "xruMZvRmX8lt",
        "colab_type": "text"
      },
      "cell_type": "markdown",
      "source": [
        "## Preparing the image data"
      ]
    },
    {
      "metadata": {
        "id": "Wmd4hbL3X8lu",
        "colab_type": "code",
        "colab": {}
      },
      "cell_type": "code",
      "source": [
        "#reshape data to fit model\n",
        "#X_train = X_train.reshape(42000,28,28,1)\n",
        "train_images = train_images.astype('float32') / 255\n",
        "#test_images_final = X_test.reshape(28000,28,28,1)\n",
        "test_images_final = test_images_final.astype('float32') / 255"
      ],
      "execution_count": 0,
      "outputs": []
    },
    {
      "metadata": {
        "id": "3nIMIcv6X8lw",
        "colab_type": "text"
      },
      "cell_type": "markdown",
      "source": [
        "## The network architecture"
      ]
    },
    {
      "metadata": {
        "id": "BxpuHyC3X8lw",
        "colab_type": "code",
        "colab": {}
      },
      "cell_type": "code",
      "source": [
        "#network = models.Sequential()\n",
        "#network.add(layers.Dense(512, activation='relu', input_shape=(28 * 28,)))\n",
        "#network.add(layers.Dense(512, activation='relu'))\n",
        "#network.add(layers.Dense(10, activation='softmax'))\n",
        "\n",
        "\n",
        "#create model\n",
        "network = models.Sequential()\n",
        "#convolutional layer with rectified linear unit activation\n",
        "network.add(ZeroPadding2D(padding=(1, 1), data_format=None))\n",
        "network.add(Conv2D(32, kernel_size=(5, 5),\n",
        "                 activation='relu',\n",
        "                 input_shape=(28,28,1)))\n",
        "#32 convolution filters used each of size 8X8\n",
        "#again\n",
        "network.add(ZeroPadding2D(padding=(1, 1), data_format=None))\n",
        "network.add(Conv2D(64, (6, 6), activation='relu'))\n",
        "network.add(ZeroPadding2D(padding=(1, 1), data_format=None))\n",
        "network.add(Conv2D(128, (7, 7), activation='relu'))\n",
        "#64 convolution filters used each of size 5x5\n",
        "#choose the best features via pooling\n",
        "network.add(MaxPooling2D(pool_size=(5, 5)))\n",
        "#randomly turn neurons on and off to improve convergence\n",
        "network.add(Dropout(0.25))\n",
        "#flatten since too many dimensions, we only want a classification output\n",
        "network.add(Flatten())\n",
        "#fully connected to get all relevant data\n",
        "network.add(Dense(128, activation='relu'))\n",
        "#one more dropout for convergence' sake :) \n",
        "network.add(Dropout(0.5))\n",
        "#output a softmax to squash the matrix into output probabilities\n",
        "network.add(Dense(10, activation='softmax'))"
      ],
      "execution_count": 0,
      "outputs": []
    },
    {
      "metadata": {
        "id": "4N42PZvrX8ly",
        "colab_type": "text"
      },
      "cell_type": "markdown",
      "source": [
        "## The compilation step"
      ]
    },
    {
      "metadata": {
        "id": "3jwrndmJX8lz",
        "colab_type": "code",
        "colab": {}
      },
      "cell_type": "code",
      "source": [
        "from keras import optimizers\n",
        "network.compile(optimizer='Adam',\n",
        "loss='categorical_crossentropy',\n",
        "metrics=['accuracy'])\n",
        "\n",
        "network.compile(optimizer=optimizers.RMSprop(lr=0.001),\n",
        "loss='categorical_crossentropy',\n",
        "metrics=['accuracy'])"
      ],
      "execution_count": 0,
      "outputs": []
    },
    {
      "metadata": {
        "id": "-6wR1pz9X8l1",
        "colab_type": "text"
      },
      "cell_type": "markdown",
      "source": [
        "## Spliting the Train data "
      ]
    },
    {
      "metadata": {
        "id": "3qh4c-ZBX8l2",
        "colab_type": "code",
        "colab": {}
      },
      "cell_type": "code",
      "source": [
        "from sklearn.model_selection  import train_test_split\n",
        "X_train, X_test, y_train, y_test = train_test_split(train_images, y_train, test_size=0.15)"
      ],
      "execution_count": 0,
      "outputs": []
    },
    {
      "metadata": {
        "id": "4cRWd6zmX8l4",
        "colab_type": "code",
        "outputId": "319120c1-78bb-4f67-d0e8-0e8d402462fb",
        "colab": {
          "base_uri": "https://localhost:8080/",
          "height": 34
        }
      },
      "cell_type": "code",
      "source": [
        "from keras.utils import to_categorical\n",
        "train_labels = to_categorical(y_train)\n",
        "test_labels = to_categorical(y_test)\n",
        "train_labels.shape\n",
        "\n"
      ],
      "execution_count": 61,
      "outputs": [
        {
          "output_type": "execute_result",
          "data": {
            "text/plain": [
              "(35700, 10)"
            ]
          },
          "metadata": {
            "tags": []
          },
          "execution_count": 61
        }
      ]
    },
    {
      "metadata": {
        "id": "RcyQtOAjiL_6",
        "colab_type": "text"
      },
      "cell_type": "markdown",
      "source": [
        "## Pre Processing"
      ]
    },
    {
      "metadata": {
        "id": "WnCRIjmsjZUY",
        "colab_type": "text"
      },
      "cell_type": "markdown",
      "source": [
        "## Feature Standardization\n",
        "It is also possible to standardize pixel values across the entire dataset. This is called feature standardization and mirrors the type of standardization often performed for each column in a tabular dataset."
      ]
    },
    {
      "metadata": {
        "id": "0YKBs0caxsrG",
        "colab_type": "code",
        "outputId": "4e85a34e-485e-4e36-8d2f-d6eff18712c6",
        "colab": {
          "base_uri": "https://localhost:8080/",
          "height": 269
        }
      },
      "cell_type": "code",
      "source": [
        "datagen = ImageDataGenerator(featurewise_center=True, featurewise_std_normalization=True)\n",
        "# fit parameters from data\n",
        "datagen.fit(X_train)\n",
        "\n",
        "for X_batch, y_batch in datagen.flow(X_train, train_labels, batch_size=35700):\n",
        "  \n",
        "  break\n",
        "  \n",
        "X_Train = X_batch\n",
        "y_train = y_batch\n",
        "X_Train.shape\n",
        "\n",
        "for i in range(0, 9):\n",
        "\t\tpyplot.subplot(330 + 1 + i)\n",
        "\t\tpyplot.imshow(X_Train[i].reshape(28, 28), cmap=pyplot.get_cmap('gray'))\n",
        "\t# show the plot\n",
        "pyplot.show()\n",
        "\n",
        "\n"
      ],
      "execution_count": 42,
      "outputs": [
        {
          "output_type": "display_data",
          "data": {
            "image/png": "[encoded data removed]",
            "text/plain": [
              "<Figure size 432x288 with 9 Axes>"
            ]
          },
          "metadata": {
            "tags": []
          }
        }
      ]
    },
    {
      "metadata": {
        "id": "h3yBu-WRe9HR",
        "colab_type": "code",
        "colab": {
          "base_uri": "https://localhost:8080/",
          "height": 51
        },
        "outputId": "7ba68d9f-101e-4267-eb38-93826126867d"
      },
      "cell_type": "code",
      "source": [
        "print(y_train.shape)\n",
        "print(X_train.shape)"
      ],
      "execution_count": 47,
      "outputs": [
        {
          "output_type": "stream",
          "text": [
            "(35700, 10)\n",
            "(35700, 28, 28, 1)\n"
          ],
          "name": "stdout"
        }
      ]
    },
    {
      "metadata": {
        "id": "XwsmnaP6jfUL",
        "colab_type": "text"
      },
      "cell_type": "markdown",
      "source": [
        ""
      ]
    },
    {
      "metadata": {
        "id": "hv9S3L67kauC",
        "colab_type": "text"
      },
      "cell_type": "markdown",
      "source": [
        "## Random Rotations"
      ]
    },
    {
      "metadata": {
        "id": "bnI0_jkLkeM8",
        "colab_type": "code",
        "outputId": "ef4834fe-4e10-4110-a3ee-e88cc135fbd7",
        "colab": {
          "base_uri": "https://localhost:8080/",
          "height": 303
        }
      },
      "cell_type": "code",
      "source": [
        "# define data preparation\n",
        "datagen = ImageDataGenerator(rotation_range=30)\n",
        "datagen.fit(X_train)\n",
        "\n",
        "for X_batch, y_batch in datagen.flow(X_train, train_labels, batch_size=35700):\n",
        "  \n",
        "  break\n",
        "  \n",
        "X_trainRotate = X_batch\n",
        "y_trainRotate = y_batch\n",
        "print(X_trainRotate.shape)\n",
        "print(y_trainRotate.shape)\n",
        "\n",
        "for i in range(0, 9):\n",
        "\t\tpyplot.subplot(330 + 1 + i)\n",
        "\t\tpyplot.imshow(X_trainRotate[i].reshape(28, 28), cmap=pyplot.get_cmap('gray'))\n",
        "\t# show the plot\n",
        "pyplot.show()"
      ],
      "execution_count": 69,
      "outputs": [
        {
          "output_type": "stream",
          "text": [
            "(35700, 28, 28, 1)\n",
            "(35700, 10)\n"
          ],
          "name": "stdout"
        },
        {
          "output_type": "display_data",
          "data": {
            "image/png": "[encoded data removed]",
            "text/plain": [
              "<Figure size 432x288 with 9 Axes>"
            ]
          },
          "metadata": {
            "tags": []
          }
        }
      ]
    },
    {
      "metadata": {
        "id": "t3pOk7g8qUFQ",
        "colab_type": "code",
        "outputId": "562136f0-1c7f-47b9-e001-de00729674d0",
        "colab": {
          "base_uri": "https://localhost:8080/",
          "height": 51
        }
      },
      "cell_type": "code",
      "source": [
        "X_trainCombine = np.concatenate((X_train,X_trainRotate),axis=0)\n",
        "y_trainCombine = np.concatenate((train_labels,y_trainRotate),axis=0)\n",
        "print(X_trainCombine.shape)\n",
        "print(y_trainCombine.shape)"
      ],
      "execution_count": 72,
      "outputs": [
        {
          "output_type": "stream",
          "text": [
            "(71400, 28, 28, 1)\n",
            "(71400, 10)\n"
          ],
          "name": "stdout"
        }
      ]
    },
    {
      "metadata": {
        "id": "v9AasyL4X8l4",
        "colab_type": "text"
      },
      "cell_type": "markdown",
      "source": [
        "## Preparing the labels"
      ]
    },
    {
      "metadata": {
        "id": "hx-jtSFxX8l6",
        "colab_type": "text"
      },
      "cell_type": "markdown",
      "source": [
        "## Fit the Network"
      ]
    },
    {
      "metadata": {
        "id": "tLAT1dxVX8l7",
        "colab_type": "code",
        "outputId": "e3cc5fae-f327-4862-ded7-215e427c7a2f",
        "colab": {
          "base_uri": "https://localhost:8080/",
          "height": 1734
        }
      },
      "cell_type": "code",
      "source": [
        "history = network.fit(X_train, train_labels, epochs=50, batch_size=1024,validation_data=(X_test,test_labels))"
      ],
      "execution_count": 84,
      "outputs": [
        {
          "output_type": "stream",
          "text": [
            "Train on 35700 samples, validate on 6300 samples\n",
            "Epoch 1/50\n",
            "35700/35700 [==============================] - 8s 224us/step - loss: 0.9748 - acc: 0.6939 - val_loss: 0.1989 - val_acc: 0.9405\n",
            "Epoch 2/50\n",
            "35700/35700 [==============================] - 5s 142us/step - loss: 0.2355 - acc: 0.9297 - val_loss: 0.1002 - val_acc: 0.9675\n",
            "Epoch 3/50\n",
            "35700/35700 [==============================] - 5s 143us/step - loss: 0.1471 - acc: 0.9560 - val_loss: 0.0758 - val_acc: 0.9757\n",
            "Epoch 4/50\n",
            "35700/35700 [==============================] - 5s 144us/step - loss: 0.1013 - acc: 0.9696 - val_loss: 0.0517 - val_acc: 0.9833\n",
            "Epoch 5/50\n",
            "35700/35700 [==============================] - 5s 146us/step - loss: 0.0718 - acc: 0.9787 - val_loss: 0.0441 - val_acc: 0.9871\n",
            "Epoch 6/50\n",
            "35700/35700 [==============================] - 5s 147us/step - loss: 0.0592 - acc: 0.9818 - val_loss: 0.0381 - val_acc: 0.9871\n",
            "Epoch 7/50\n",
            "35700/35700 [==============================] - 5s 147us/step - loss: 0.0530 - acc: 0.9844 - val_loss: 0.0334 - val_acc: 0.9906\n",
            "Epoch 8/50\n",
            "35700/35700 [==============================] - 5s 147us/step - loss: 0.0409 - acc: 0.9876 - val_loss: 0.0335 - val_acc: 0.9895\n",
            "Epoch 9/50\n",
            "35700/35700 [==============================] - 5s 147us/step - loss: 0.0375 - acc: 0.9889 - val_loss: 0.0310 - val_acc: 0.9913\n",
            "Epoch 10/50\n",
            "35700/35700 [==============================] - 5s 147us/step - loss: 0.0322 - acc: 0.9902 - val_loss: 0.0303 - val_acc: 0.9905\n",
            "Epoch 11/50\n",
            "35700/35700 [==============================] - 5s 147us/step - loss: 0.0323 - acc: 0.9902 - val_loss: 0.0245 - val_acc: 0.9921\n",
            "Epoch 12/50\n",
            "35700/35700 [==============================] - 5s 146us/step - loss: 0.0274 - acc: 0.9918 - val_loss: 0.0356 - val_acc: 0.9903\n",
            "Epoch 13/50\n",
            "35700/35700 [==============================] - 5s 144us/step - loss: 0.0248 - acc: 0.9924 - val_loss: 0.0292 - val_acc: 0.9917\n",
            "Epoch 14/50\n",
            "35700/35700 [==============================] - 5s 142us/step - loss: 0.0248 - acc: 0.9920 - val_loss: 0.0281 - val_acc: 0.9908\n",
            "Epoch 15/50\n",
            "35700/35700 [==============================] - 5s 142us/step - loss: 0.0207 - acc: 0.9935 - val_loss: 0.0242 - val_acc: 0.9927\n",
            "Epoch 16/50\n",
            "35700/35700 [==============================] - 5s 142us/step - loss: 0.0199 - acc: 0.9940 - val_loss: 0.0279 - val_acc: 0.9919\n",
            "Epoch 17/50\n",
            "35700/35700 [==============================] - 5s 141us/step - loss: 0.0182 - acc: 0.9943 - val_loss: 0.0292 - val_acc: 0.9916\n",
            "Epoch 18/50\n",
            "35700/35700 [==============================] - 5s 140us/step - loss: 0.0146 - acc: 0.9954 - val_loss: 0.0251 - val_acc: 0.9935\n",
            "Epoch 19/50\n",
            "35700/35700 [==============================] - 5s 140us/step - loss: 0.0141 - acc: 0.9958 - val_loss: 0.0232 - val_acc: 0.9929\n",
            "Epoch 20/50\n",
            "35700/35700 [==============================] - 5s 141us/step - loss: 0.0162 - acc: 0.9949 - val_loss: 0.0264 - val_acc: 0.9929\n",
            "Epoch 21/50\n",
            "35700/35700 [==============================] - 5s 140us/step - loss: 0.0118 - acc: 0.9965 - val_loss: 0.0255 - val_acc: 0.9932\n",
            "Epoch 22/50\n",
            "35700/35700 [==============================] - 5s 141us/step - loss: 0.0125 - acc: 0.9961 - val_loss: 0.0286 - val_acc: 0.9927\n",
            "Epoch 23/50\n",
            "35700/35700 [==============================] - 5s 141us/step - loss: 0.0123 - acc: 0.9957 - val_loss: 0.0290 - val_acc: 0.9921\n",
            "Epoch 24/50\n",
            "35700/35700 [==============================] - 5s 141us/step - loss: 0.0109 - acc: 0.9969 - val_loss: 0.0254 - val_acc: 0.9937\n",
            "Epoch 25/50\n",
            "35700/35700 [==============================] - 5s 141us/step - loss: 0.0107 - acc: 0.9964 - val_loss: 0.0271 - val_acc: 0.9930\n",
            "Epoch 26/50\n",
            "35700/35700 [==============================] - 5s 140us/step - loss: 0.0098 - acc: 0.9971 - val_loss: 0.0264 - val_acc: 0.9933\n",
            "Epoch 27/50\n",
            "35700/35700 [==============================] - 5s 141us/step - loss: 0.0098 - acc: 0.9969 - val_loss: 0.0264 - val_acc: 0.9933\n",
            "Epoch 28/50\n",
            "35700/35700 [==============================] - 5s 140us/step - loss: 0.0089 - acc: 0.9974 - val_loss: 0.0318 - val_acc: 0.9922\n",
            "Epoch 29/50\n",
            "35700/35700 [==============================] - 5s 140us/step - loss: 0.0082 - acc: 0.9976 - val_loss: 0.0304 - val_acc: 0.9922\n",
            "Epoch 30/50\n",
            "35700/35700 [==============================] - 5s 140us/step - loss: 0.0085 - acc: 0.9973 - val_loss: 0.0259 - val_acc: 0.9940\n",
            "Epoch 31/50\n",
            "35700/35700 [==============================] - 5s 139us/step - loss: 0.0089 - acc: 0.9969 - val_loss: 0.0341 - val_acc: 0.9908\n",
            "Epoch 32/50\n",
            "35700/35700 [==============================] - 5s 140us/step - loss: 0.0083 - acc: 0.9970 - val_loss: 0.0254 - val_acc: 0.9927\n",
            "Epoch 33/50\n",
            "35700/35700 [==============================] - 5s 140us/step - loss: 0.0064 - acc: 0.9984 - val_loss: 0.0249 - val_acc: 0.9938\n",
            "Epoch 34/50\n",
            "35700/35700 [==============================] - 5s 139us/step - loss: 0.0084 - acc: 0.9977 - val_loss: 0.0262 - val_acc: 0.9935\n",
            "Epoch 35/50\n",
            "35700/35700 [==============================] - 5s 139us/step - loss: 0.0066 - acc: 0.9981 - val_loss: 0.0252 - val_acc: 0.9943\n",
            "Epoch 36/50\n",
            "35700/35700 [==============================] - 5s 138us/step - loss: 0.0058 - acc: 0.9978 - val_loss: 0.0322 - val_acc: 0.9929\n",
            "Epoch 37/50\n",
            "35700/35700 [==============================] - 5s 139us/step - loss: 0.0078 - acc: 0.9978 - val_loss: 0.0300 - val_acc: 0.9929\n",
            "Epoch 38/50\n",
            "35700/35700 [==============================] - 5s 139us/step - loss: 0.0068 - acc: 0.9976 - val_loss: 0.0318 - val_acc: 0.9932\n",
            "Epoch 39/50\n",
            "35700/35700 [==============================] - 5s 138us/step - loss: 0.0059 - acc: 0.9981 - val_loss: 0.0331 - val_acc: 0.9922\n",
            "Epoch 40/50\n",
            "35700/35700 [==============================] - 5s 139us/step - loss: 0.0060 - acc: 0.9981 - val_loss: 0.0303 - val_acc: 0.9925\n",
            "Epoch 41/50\n",
            "35700/35700 [==============================] - 5s 139us/step - loss: 0.0060 - acc: 0.9983 - val_loss: 0.0368 - val_acc: 0.9919\n",
            "Epoch 42/50\n",
            "35700/35700 [==============================] - 5s 139us/step - loss: 0.0066 - acc: 0.9982 - val_loss: 0.0365 - val_acc: 0.9921\n",
            "Epoch 43/50\n",
            "35700/35700 [==============================] - 5s 138us/step - loss: 0.0052 - acc: 0.9986 - val_loss: 0.0320 - val_acc: 0.9935\n",
            "Epoch 44/50\n",
            "35700/35700 [==============================] - 5s 138us/step - loss: 0.0053 - acc: 0.9984 - val_loss: 0.0304 - val_acc: 0.9933\n",
            "Epoch 45/50\n",
            "35700/35700 [==============================] - 5s 138us/step - loss: 0.0053 - acc: 0.9985 - val_loss: 0.0325 - val_acc: 0.9922\n",
            "Epoch 46/50\n",
            "35700/35700 [==============================] - 5s 138us/step - loss: 0.0063 - acc: 0.9982 - val_loss: 0.0288 - val_acc: 0.9937\n",
            "Epoch 47/50\n",
            "35700/35700 [==============================] - 5s 138us/step - loss: 0.0036 - acc: 0.9992 - val_loss: 0.0324 - val_acc: 0.9940\n",
            "Epoch 48/50\n",
            "35700/35700 [==============================] - 5s 138us/step - loss: 0.0050 - acc: 0.9986 - val_loss: 0.0351 - val_acc: 0.9932\n",
            "Epoch 49/50\n",
            "35700/35700 [==============================] - 5s 139us/step - loss: 0.0051 - acc: 0.9983 - val_loss: 0.0289 - val_acc: 0.9946\n",
            "Epoch 50/50\n",
            "35700/35700 [==============================] - 5s 138us/step - loss: 0.0052 - acc: 0.9983 - val_loss: 0.0288 - val_acc: 0.9940\n"
          ],
          "name": "stdout"
        }
      ]
    },
    {
      "metadata": {
        "id": "0oQT5hm7X8mB",
        "colab_type": "text"
      },
      "cell_type": "markdown",
      "source": [
        "## Model Performances "
      ]
    },
    {
      "metadata": {
        "id": "fIm4FfGvX8mC",
        "colab_type": "code",
        "outputId": "789ed4c6-d387-4d07-91c9-c95ae63b8980",
        "colab": {
          "base_uri": "https://localhost:8080/",
          "height": 51
        }
      },
      "cell_type": "code",
      "source": [
        "test_loss, test_acc = network.evaluate(X_test, test_labels)\n",
        "print('test_acc:', test_acc)"
      ],
      "execution_count": 85,
      "outputs": [
        {
          "output_type": "stream",
          "text": [
            "6300/6300 [==============================] - 1s 106us/step\n",
            "test_acc: 0.9939682540439424\n"
          ],
          "name": "stdout"
        }
      ]
    },
    {
      "metadata": {
        "id": "TibfEEf2X8mG",
        "colab_type": "code",
        "colab": {}
      },
      "cell_type": "code",
      "source": [
        "#Make Prediction\n",
        "predict = network.predict(test_images_final)\n",
        "#Convert the results to the digits value \n",
        "y_classes = [np.argmax(y, axis=None, out=None) for y in predict]"
      ],
      "execution_count": 0,
      "outputs": []
    },
    {
      "metadata": {
        "id": "_Fh0udljX8mK",
        "colab_type": "text"
      },
      "cell_type": "markdown",
      "source": [
        "## Plotting the training and validation loss"
      ]
    },
    {
      "metadata": {
        "id": "XYZ0e1MxX8mL",
        "colab_type": "code",
        "outputId": "16ec69b9-eb31-471e-ab4a-51398b396541",
        "colab": {
          "base_uri": "https://localhost:8080/",
          "height": 295
        }
      },
      "cell_type": "code",
      "source": [
        "import matplotlib.pyplot as plt\n",
        "history_dict = history.history\n",
        "loss_values = history_dict['loss']\n",
        "val_loss_values = history_dict['val_loss']\n",
        "epochs = range (1,len(history_dict['loss'])+1)\n",
        "#epochs = range(1, 36)\n",
        "plt.plot(epochs, loss_values, 'bo', label='Training loss')\n",
        "plt.plot(epochs, val_loss_values, 'b', label='Validation loss')\n",
        "plt.title('Training and validation loss')\n",
        "plt.xlabel('Epochs')\n",
        "plt.ylabel('Loss')\n",
        "plt.legend()\n",
        "plt.show()"
      ],
      "execution_count": 87,
      "outputs": [
        {
          "output_type": "display_data",
          "data": {
            "image/png": "[encoded data removed]",
            "text/plain": [
              "<Figure size 432x288 with 1 Axes>"
            ]
          },
          "metadata": {
            "tags": []
          }
        }
      ]
    },
    {
      "metadata": {
        "id": "R1GZCUnfX8mN",
        "colab_type": "code",
        "colab": {}
      },
      "cell_type": "code",
      "source": [
        "x = list(range(1, 28001))\n",
        "df = pd.DataFrame({'ImageId' :x,'Label':y_classes})\n",
        "df.to_csv(\"digitcnn2_1.csv\",index=False)\n"
      ],
      "execution_count": 0,
      "outputs": []
    },
    {
      "metadata": {
        "id": "6pvah8MfxjFM",
        "colab_type": "code",
        "colab": {}
      },
      "cell_type": "code",
      "source": [
        "from google.colab import files\n",
        "files.download('digitcnn2_1.csv') "
      ],
      "execution_count": 0,
      "outputs": []
    },
    {
      "metadata": {
        "id": "0zIQGdC6X8mO",
        "colab_type": "text"
      },
      "cell_type": "markdown",
      "source": [
        "## Example of Real Image"
      ]
    },
    {
      "metadata": {
        "id": "NEk2UwbTjfbc",
        "colab_type": "code",
        "colab": {}
      },
      "cell_type": "code",
      "source": [
        ""
      ],
      "execution_count": 0,
      "outputs": []
    }
  ]
}